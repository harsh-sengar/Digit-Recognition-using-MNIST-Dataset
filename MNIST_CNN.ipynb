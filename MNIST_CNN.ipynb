{
  "nbformat": 4,
  "nbformat_minor": 0,
  "metadata": {
    "colab": {
      "name": "MNIST-CNN.ipynb",
      "version": "0.3.2",
      "views": {},
      "default_view": {},
      "provenance": []
    },
    "kernelspec": {
      "display_name": "Python 3",
      "language": "python",
      "name": "python3"
    },
    "accelerator": "GPU"
  },
  "cells": [
    {
      "metadata": {
        "id": "GehHhl_nxXjM",
        "colab_type": "code",
        "colab": {
          "autoexec": {
            "startup": false,
            "wait_interval": 0
          },
          "base_uri": "https://localhost:8080/",
          "height": 34
        },
        "outputId": "6099c954-3a7d-4156-af61-15423d7cb836",
        "executionInfo": {
          "status": "ok",
          "timestamp": 1523015097213,
          "user_tz": -330,
          "elapsed": 8528,
          "user": {
            "displayName": "Jatin Gupta",
            "photoUrl": "//lh3.googleusercontent.com/-qeRfp-Mw_Ok/AAAAAAAAAAI/AAAAAAAAFD8/VdoZcjXVjQ0/s50-c-k-no/photo.jpg",
            "userId": "106469515791121795575"
          }
        }
      },
      "cell_type": "code",
      "source": [
        "from keras.datasets import mnist\n",
        "import matplotlib.pyplot as plt\n",
        "import numpy as np"
      ],
      "execution_count": 1,
      "outputs": [
        {
          "output_type": "stream",
          "text": [
            "Using TensorFlow backend.\n"
          ],
          "name": "stderr"
        }
      ]
    },
    {
      "metadata": {
        "id": "PYOyqVYsxXjU",
        "colab_type": "code",
        "colab": {
          "autoexec": {
            "startup": false,
            "wait_interval": 0
          },
          "base_uri": "https://localhost:8080/",
          "height": 51
        },
        "outputId": "c0b32879-e6a1-49b0-a71b-495c741b541e",
        "executionInfo": {
          "status": "ok",
          "timestamp": 1523015103526,
          "user_tz": -330,
          "elapsed": 3574,
          "user": {
            "displayName": "Jatin Gupta",
            "photoUrl": "//lh3.googleusercontent.com/-qeRfp-Mw_Ok/AAAAAAAAAAI/AAAAAAAAFD8/VdoZcjXVjQ0/s50-c-k-no/photo.jpg",
            "userId": "106469515791121795575"
          }
        }
      },
      "cell_type": "code",
      "source": [
        "(X_train, Y_train), (X_test, Y_test) = mnist.load_data()"
      ],
      "execution_count": 2,
      "outputs": [
        {
          "output_type": "stream",
          "text": [
            "Downloading data from https://s3.amazonaws.com/img-datasets/mnist.npz\n",
            "11493376/11490434 [==============================] - 2s 0us/step\n"
          ],
          "name": "stdout"
        }
      ]
    },
    {
      "metadata": {
        "id": "09q1pyxUxXjX",
        "colab_type": "code",
        "colab": {
          "autoexec": {
            "startup": false,
            "wait_interval": 0
          }
        }
      },
      "cell_type": "code",
      "source": [
        "from keras.models import Sequential\n",
        "from keras.layers import Dense\n",
        "from keras.layers import Dropout\n",
        "from keras.layers import Flatten\n",
        "from keras.layers.convolutional import Conv2D\n",
        "from keras.layers.convolutional import MaxPooling2D\n",
        "from keras.utils import np_utils"
      ],
      "execution_count": 0,
      "outputs": []
    },
    {
      "metadata": {
        "id": "DKoopGMLxXja",
        "colab_type": "code",
        "colab": {
          "autoexec": {
            "startup": false,
            "wait_interval": 0
          },
          "base_uri": "https://localhost:8080/",
          "height": 34
        },
        "outputId": "a444e2c5-2d39-48ee-c053-e6169ea33a93",
        "executionInfo": {
          "status": "ok",
          "timestamp": 1523015109234,
          "user_tz": -330,
          "elapsed": 1099,
          "user": {
            "displayName": "Jatin Gupta",
            "photoUrl": "//lh3.googleusercontent.com/-qeRfp-Mw_Ok/AAAAAAAAAAI/AAAAAAAAFD8/VdoZcjXVjQ0/s50-c-k-no/photo.jpg",
            "userId": "106469515791121795575"
          }
        }
      },
      "cell_type": "code",
      "source": [
        "print(X_train.shape)"
      ],
      "execution_count": 4,
      "outputs": [
        {
          "output_type": "stream",
          "text": [
            "(60000, 28, 28)\n"
          ],
          "name": "stdout"
        }
      ]
    },
    {
      "metadata": {
        "id": "moiuoRbqxXjd",
        "colab_type": "code",
        "colab": {
          "autoexec": {
            "startup": false,
            "wait_interval": 0
          }
        }
      },
      "cell_type": "code",
      "source": [
        "seed = 2303\n",
        "np.random.seed(seed)"
      ],
      "execution_count": 0,
      "outputs": []
    },
    {
      "metadata": {
        "id": "J53MssIcxXje",
        "colab_type": "code",
        "colab": {
          "autoexec": {
            "startup": false,
            "wait_interval": 0
          }
        }
      },
      "cell_type": "code",
      "source": [
        "X_train = X_train.reshape(X_train.shape[0], 28, 28,1)\n",
        "X_test = X_test.reshape(X_test.shape[0],28, 28,1)"
      ],
      "execution_count": 0,
      "outputs": []
    },
    {
      "metadata": {
        "id": "Z2et1S8axXjh",
        "colab_type": "code",
        "colab": {
          "autoexec": {
            "startup": false,
            "wait_interval": 0
          },
          "base_uri": "https://localhost:8080/",
          "height": 34
        },
        "outputId": "1fd83156-a6b9-4e1e-a271-7651c87a3ec6",
        "executionInfo": {
          "status": "ok",
          "timestamp": 1523015125236,
          "user_tz": -330,
          "elapsed": 915,
          "user": {
            "displayName": "Jatin Gupta",
            "photoUrl": "//lh3.googleusercontent.com/-qeRfp-Mw_Ok/AAAAAAAAAAI/AAAAAAAAFD8/VdoZcjXVjQ0/s50-c-k-no/photo.jpg",
            "userId": "106469515791121795575"
          }
        }
      },
      "cell_type": "code",
      "source": [
        "print(X_test.shape)"
      ],
      "execution_count": 7,
      "outputs": [
        {
          "output_type": "stream",
          "text": [
            "(10000, 28, 28, 1)\n"
          ],
          "name": "stdout"
        }
      ]
    },
    {
      "metadata": {
        "id": "wJiRlSvfxXjk",
        "colab_type": "code",
        "colab": {
          "autoexec": {
            "startup": false,
            "wait_interval": 0
          }
        }
      },
      "cell_type": "code",
      "source": [
        "X_train = X_train / 255\n",
        "X_test = X_test / 255"
      ],
      "execution_count": 0,
      "outputs": []
    },
    {
      "metadata": {
        "id": "71KTXRrwxXjm",
        "colab_type": "code",
        "colab": {
          "autoexec": {
            "startup": false,
            "wait_interval": 0
          }
        }
      },
      "cell_type": "code",
      "source": [
        "Y_train = np_utils.to_categorical(Y_train)\n",
        "Y_test = np_utils.to_categorical(Y_test)"
      ],
      "execution_count": 0,
      "outputs": []
    },
    {
      "metadata": {
        "id": "-oLg8MMSxXjo",
        "colab_type": "code",
        "colab": {
          "autoexec": {
            "startup": false,
            "wait_interval": 0
          },
          "base_uri": "https://localhost:8080/",
          "height": 34
        },
        "outputId": "16159553-b779-4052-ff13-d23832f5a0c5",
        "executionInfo": {
          "status": "ok",
          "timestamp": 1523015132557,
          "user_tz": -330,
          "elapsed": 921,
          "user": {
            "displayName": "Jatin Gupta",
            "photoUrl": "//lh3.googleusercontent.com/-qeRfp-Mw_Ok/AAAAAAAAAAI/AAAAAAAAFD8/VdoZcjXVjQ0/s50-c-k-no/photo.jpg",
            "userId": "106469515791121795575"
          }
        }
      },
      "cell_type": "code",
      "source": [
        "print(Y_train.shape)"
      ],
      "execution_count": 10,
      "outputs": [
        {
          "output_type": "stream",
          "text": [
            "(60000, 10)\n"
          ],
          "name": "stdout"
        }
      ]
    },
    {
      "metadata": {
        "id": "Oxb6iqjjxXjx",
        "colab_type": "code",
        "colab": {
          "autoexec": {
            "startup": false,
            "wait_interval": 0
          }
        }
      },
      "cell_type": "code",
      "source": [
        "def givememodel():\n",
        "    model = Sequential()\n",
        "    model.add(Conv2D(30,kernel_size = (5,5),input_shape = (28,28,1),activation = \"relu\"))\n",
        "    model.add(MaxPooling2D(pool_size = (2,2)))\n",
        "    model.add(Conv2D(15,(3,3),activation =\"relu\"))\n",
        "    model.add(MaxPooling2D(pool_size=(2,2)))\n",
        "    model.add(Dropout(0.25))\n",
        "    model.add(Flatten())\n",
        "    model.add(Dense(128,activation = 'relu'))\n",
        "    model.add(Dense(50,activation = 'relu'))\n",
        "    model.add(Dense(10,activation ='softmax'))\n",
        "    model.compile(loss='categorical_crossentropy',optimizer='adam',metrics = ['accuracy'])\n",
        "    return model"
      ],
      "execution_count": 0,
      "outputs": []
    },
    {
      "metadata": {
        "id": "83rPbpAhxXj0",
        "colab_type": "code",
        "colab": {
          "autoexec": {
            "startup": false,
            "wait_interval": 0
          }
        }
      },
      "cell_type": "code",
      "source": [
        "model = givememodel()"
      ],
      "execution_count": 0,
      "outputs": []
    },
    {
      "metadata": {
        "id": "4jTjV0pbxXj4",
        "colab_type": "code",
        "colab": {
          "autoexec": {
            "startup": false,
            "wait_interval": 0
          },
          "base_uri": "https://localhost:8080/",
          "height": 394
        },
        "outputId": "a58b955d-531f-48d7-cae2-86139a345765",
        "executionInfo": {
          "status": "ok",
          "timestamp": 1523015684548,
          "user_tz": -330,
          "elapsed": 48535,
          "user": {
            "displayName": "Jatin Gupta",
            "photoUrl": "//lh3.googleusercontent.com/-qeRfp-Mw_Ok/AAAAAAAAAAI/AAAAAAAAFD8/VdoZcjXVjQ0/s50-c-k-no/photo.jpg",
            "userId": "106469515791121795575"
          }
        }
      },
      "cell_type": "code",
      "source": [
        "model.fit(X_train, Y_train, epochs=10, batch_size=200)"
      ],
      "execution_count": 27,
      "outputs": [
        {
          "output_type": "stream",
          "text": [
            "Epoch 1/10\n",
            "60000/60000 [==============================] - 5s 81us/step - loss: 0.0324 - acc: 0.9893\n",
            "Epoch 2/10\n",
            "60000/60000 [==============================] - 5s 79us/step - loss: 0.0303 - acc: 0.9900\n",
            "Epoch 3/10\n",
            "60000/60000 [==============================] - 5s 80us/step - loss: 0.0281 - acc: 0.9910\n",
            "Epoch 4/10\n",
            "60000/60000 [==============================] - 5s 81us/step - loss: 0.0278 - acc: 0.9904\n",
            "Epoch 5/10\n",
            "31000/60000 [==============>...............] - ETA: 2s - loss: 0.0251 - acc: 0.9918"
          ],
          "name": "stdout"
        },
        {
          "output_type": "stream",
          "text": [
            "60000/60000 [==============================] - 5s 79us/step - loss: 0.0257 - acc: 0.9915\n",
            "Epoch 6/10\n",
            "60000/60000 [==============================] - 5s 81us/step - loss: 0.0240 - acc: 0.9921\n",
            "Epoch 7/10\n",
            "60000/60000 [==============================] - 5s 80us/step - loss: 0.0225 - acc: 0.9926\n",
            "Epoch 8/10\n",
            "60000/60000 [==============================] - 5s 78us/step - loss: 0.0213 - acc: 0.9929\n",
            "Epoch 9/10\n",
            "42600/60000 [====================>.........] - ETA: 1s - loss: 0.0200 - acc: 0.9929"
          ],
          "name": "stdout"
        },
        {
          "output_type": "stream",
          "text": [
            "60000/60000 [==============================] - 5s 79us/step - loss: 0.0194 - acc: 0.9935\n",
            "Epoch 10/10\n",
            "60000/60000 [==============================] - 5s 79us/step - loss: 0.0186 - acc: 0.9938\n"
          ],
          "name": "stdout"
        },
        {
          "output_type": "execute_result",
          "data": {
            "text/plain": [
              "<keras.callbacks.History at 0x7f858ea714e0>"
            ]
          },
          "metadata": {
            "tags": []
          },
          "execution_count": 27
        }
      ]
    },
    {
      "metadata": {
        "id": "ZOMI-B6HxXj_",
        "colab_type": "code",
        "colab": {
          "autoexec": {
            "startup": false,
            "wait_interval": 0
          },
          "base_uri": "https://localhost:8080/",
          "height": 34
        },
        "outputId": "c9c9859e-9ba6-480b-edda-3039719a0195",
        "executionInfo": {
          "status": "ok",
          "timestamp": 1523015690603,
          "user_tz": -330,
          "elapsed": 2098,
          "user": {
            "displayName": "Jatin Gupta",
            "photoUrl": "//lh3.googleusercontent.com/-qeRfp-Mw_Ok/AAAAAAAAAAI/AAAAAAAAFD8/VdoZcjXVjQ0/s50-c-k-no/photo.jpg",
            "userId": "106469515791121795575"
          }
        }
      },
      "cell_type": "code",
      "source": [
        "scores = model.evaluate(X_test,Y_test)"
      ],
      "execution_count": 28,
      "outputs": [
        {
          "output_type": "stream",
          "text": [
            "10000/10000 [==============================] - 1s 106us/step\n"
          ],
          "name": "stdout"
        }
      ]
    },
    {
      "metadata": {
        "id": "RvuvnMtrxXkE",
        "colab_type": "code",
        "colab": {
          "autoexec": {
            "startup": false,
            "wait_interval": 0
          },
          "base_uri": "https://localhost:8080/",
          "height": 34
        },
        "outputId": "01965ddc-a992-4d72-dda0-c2810f2202bb",
        "executionInfo": {
          "status": "ok",
          "timestamp": 1523015692600,
          "user_tz": -330,
          "elapsed": 946,
          "user": {
            "displayName": "Jatin Gupta",
            "photoUrl": "//lh3.googleusercontent.com/-qeRfp-Mw_Ok/AAAAAAAAAAI/AAAAAAAAFD8/VdoZcjXVjQ0/s50-c-k-no/photo.jpg",
            "userId": "106469515791121795575"
          }
        }
      },
      "cell_type": "code",
      "source": [
        "print(scores[1]*100)"
      ],
      "execution_count": 29,
      "outputs": [
        {
          "output_type": "stream",
          "text": [
            "99.25\n"
          ],
          "name": "stdout"
        }
      ]
    },
    {
      "metadata": {
        "id": "Qd3lWg9SxXkJ",
        "colab_type": "code",
        "colab": {
          "autoexec": {
            "startup": false,
            "wait_interval": 0
          }
        }
      },
      "cell_type": "code",
      "source": [
        ""
      ],
      "execution_count": 0,
      "outputs": []
    }
  ]
}