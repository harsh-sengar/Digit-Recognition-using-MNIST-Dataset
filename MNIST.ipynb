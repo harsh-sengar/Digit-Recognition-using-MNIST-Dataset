{
 "cells": [
  {
   "cell_type": "code",
   "execution_count": 1,
   "metadata": {},
   "outputs": [
    {
     "name": "stderr",
     "output_type": "stream",
     "text": [
      "Using TensorFlow backend.\n"
     ]
    }
   ],
   "source": [
    "from keras.datasets import mnist\n",
    "import matplotlib.pyplot as plt\n",
    "import numpy as np"
   ]
  },
  {
   "cell_type": "code",
   "execution_count": 4,
   "metadata": {
    "collapsed": true
   },
   "outputs": [],
   "source": [
    "(X_train, y_train), (X_test, y_test) = mnist.load_data()"
   ]
  },
  {
   "cell_type": "code",
   "execution_count": 6,
   "metadata": {},
   "outputs": [
    {
     "name": "stdout",
     "output_type": "stream",
     "text": [
      "(60000, 28, 28) (60000,)\n"
     ]
    }
   ],
   "source": [
    "print(X_train.shape,y_train.shape)"
   ]
  },
  {
   "cell_type": "code",
   "execution_count": 7,
   "metadata": {},
   "outputs": [
    {
     "name": "stdout",
     "output_type": "stream",
     "text": [
      "(10000, 28, 28) (10000,)\n"
     ]
    }
   ],
   "source": [
    "print(X_test.shape,y_test.shape)"
   ]
  },
  {
   "cell_type": "code",
   "execution_count": 8,
   "metadata": {},
   "outputs": [
    {
     "name": "stdout",
     "output_type": "stream",
     "text": [
      "[7 2 1 ..., 4 5 6]\n"
     ]
    }
   ],
   "source": [
    "print (y_test)"
   ]
  },
  {
   "cell_type": "code",
   "execution_count": 9,
   "metadata": {},
   "outputs": [],
   "source": [
    "X_train = X_train.reshape(X_train.shape[0], -1).T"
   ]
  },
  {
   "cell_type": "code",
   "execution_count": 10,
   "metadata": {},
   "outputs": [
    {
     "name": "stdout",
     "output_type": "stream",
     "text": [
      "(784, 60000)\n"
     ]
    }
   ],
   "source": [
    "print(X_train.shape)"
   ]
  },
  {
   "cell_type": "code",
   "execution_count": 11,
   "metadata": {
    "collapsed": true
   },
   "outputs": [],
   "source": [
    "X_test = X_test.reshape(X_test.shape[0], -1).T"
   ]
  },
  {
   "cell_type": "code",
   "execution_count": 12,
   "metadata": {},
   "outputs": [
    {
     "name": "stdout",
     "output_type": "stream",
     "text": [
      "(784, 10000)\n"
     ]
    }
   ],
   "source": [
    "print(X_test.shape)"
   ]
  },
  {
   "cell_type": "code",
   "execution_count": 13,
   "metadata": {},
   "outputs": [],
   "source": [
    "Y_train = np.zeros((10,X_train.shape[1]))"
   ]
  },
  {
   "cell_type": "code",
   "execution_count": 14,
   "metadata": {},
   "outputs": [
    {
     "name": "stdout",
     "output_type": "stream",
     "text": [
      "(10, 60000)\n"
     ]
    }
   ],
   "source": [
    "print(Y_train.shape)"
   ]
  },
  {
   "cell_type": "code",
   "execution_count": 15,
   "metadata": {
    "collapsed": true
   },
   "outputs": [],
   "source": [
    "Y_test = np.zeros((10,X_test.shape[1]))"
   ]
  },
  {
   "cell_type": "code",
   "execution_count": 16,
   "metadata": {},
   "outputs": [
    {
     "name": "stdout",
     "output_type": "stream",
     "text": [
      "(10, 10000)\n"
     ]
    }
   ],
   "source": [
    "print(Y_test.shape)"
   ]
  },
  {
   "cell_type": "code",
   "execution_count": 17,
   "metadata": {},
   "outputs": [],
   "source": [
    "m_train = X_train.shape[1]\n",
    "m_test = X_test.shape[1]\n",
    "for i in range(m_train):\n",
    "    Y_train[y_train[i], i] = 1\n",
    "for i in range(m_test):\n",
    "    Y_test[y_test[i], i] = 1"
   ]
  },
  {
   "cell_type": "code",
   "execution_count": 18,
   "metadata": {},
   "outputs": [
    {
     "name": "stdout",
     "output_type": "stream",
     "text": [
      "(10, 60000) (10, 10000)\n"
     ]
    }
   ],
   "source": [
    "print(Y_train.shape,Y_test.shape)"
   ]
  },
  {
   "cell_type": "code",
   "execution_count": 19,
   "metadata": {},
   "outputs": [
    {
     "name": "stdout",
     "output_type": "stream",
     "text": [
      "[0 0 0 ..., 0 0 0]\n"
     ]
    }
   ],
   "source": [
    "print(X_train[100])"
   ]
  },
  {
   "cell_type": "code",
   "execution_count": 20,
   "metadata": {
    "collapsed": true
   },
   "outputs": [],
   "source": [
    "X_train = X_train/255"
   ]
  },
  {
   "cell_type": "code",
   "execution_count": 21,
   "metadata": {
    "collapsed": true
   },
   "outputs": [],
   "source": [
    "X_test = X_test/255"
   ]
  },
  {
   "cell_type": "code",
   "execution_count": 22,
   "metadata": {},
   "outputs": [],
   "source": [
    "np.random.seed(2303)"
   ]
  },
  {
   "cell_type": "code",
   "execution_count": 23,
   "metadata": {
    "collapsed": true
   },
   "outputs": [],
   "source": [
    "def initialize_params(layer_dims):\n",
    "    L = len(layer_dims)\n",
    "    parameters = {}\n",
    "    for l in range(1,L):\n",
    "        parameters[\"W\"+str(l)] = np.random.randn(layer_dims[l],layer_dims[l-1])*0.01\n",
    "        parameters[\"b\"+str(l)] = np.zeros((layer_dims[l],1))\n",
    "    return parameters"
   ]
  },
  {
   "cell_type": "code",
   "execution_count": 24,
   "metadata": {
    "collapsed": true
   },
   "outputs": [],
   "source": [
    "def sigmoid(I):\n",
    "    O = 1/(1+np.exp(-I))\n",
    "    return O\n",
    "def relu(I):\n",
    "    O = np.maximum(0,I)\n",
    "    return O"
   ]
  },
  {
   "cell_type": "code",
   "execution_count": 25,
   "metadata": {},
   "outputs": [
    {
     "name": "stdout",
     "output_type": "stream",
     "text": [
      "[ 0.99330715  0.01798621  0.95257413]\n",
      "[5 0 3]\n"
     ]
    }
   ],
   "source": [
    "lala = np.array([5,-4,3])\n",
    "print(sigmoid(lala))\n",
    "print(relu(lala))"
   ]
  },
  {
   "cell_type": "code",
   "execution_count": 26,
   "metadata": {
    "collapsed": true
   },
   "outputs": [],
   "source": [
    "def linear_act_fwd(A_prev,W,b,act):\n",
    "    \n",
    "    Z = np.dot(W,A_prev)+b\n",
    "    \n",
    "    if act==\"sigmoid\":\n",
    "        A = sigmoid(Z)\n",
    "    elif act==\"relu\":\n",
    "        A = relu(Z)\n",
    "        \n",
    "    return A,Z"
   ]
  },
  {
   "cell_type": "code",
   "execution_count": 39,
   "metadata": {
    "collapsed": true
   },
   "outputs": [],
   "source": [
    "def forward_L(X, parameters):\n",
    "    L = len(parameters)//2\n",
    "    prev_res = {}\n",
    "    A = X\n",
    "    for l in range(1,L):\n",
    "        W = parameters[\"W\"+str(l)]\n",
    "        b = parameters[\"b\"+str(l)]\n",
    "        A,Z = linear_act_fwd(A,W,b,\"relu\")\n",
    "        prev_res[\"Z\"+str(l)] = Z\n",
    "        prev_res[\"A\"+str(l)] = A\n",
    "    \n",
    "    W = parameters[\"W\"+str(L)]\n",
    "    b = parameters[\"b\"+str(L)]\n",
    "    A,Z = linear_act_fwd(A,W,b,\"sigmoid\")\n",
    "    prev_res[\"Z\"+str(L)] = Z\n",
    "    prev_res[\"A\"+str(L)] = A\n",
    "    prev_res[\"A0\"] = X\n",
    "    \n",
    "    return A,prev_res"
   ]
  },
  {
   "cell_type": "code",
   "execution_count": 69,
   "metadata": {
    "collapsed": true
   },
   "outputs": [],
   "source": [
    "def compute_cost(AL,Y):\n",
    "    m = Y.shape[1]\n",
    "    cost = -(1/m)*np.sum(Y*np.log(AL)+(1-Y)*np.log(1-AL))\n",
    "    cost = np.squeeze(cost)\n",
    "    return cost"
   ]
  },
  {
   "cell_type": "code",
   "execution_count": 41,
   "metadata": {
    "collapsed": true
   },
   "outputs": [],
   "source": [
    "def sig_der(Z):\n",
    "    return sigmoid(Z)*(1-sigmoid(Z))"
   ]
  },
  {
   "cell_type": "code",
   "execution_count": 42,
   "metadata": {
    "collapsed": true
   },
   "outputs": [],
   "source": [
    "def relu_der(Z):\n",
    "    return 1*(Z>0)"
   ]
  },
  {
   "cell_type": "code",
   "execution_count": 43,
   "metadata": {},
   "outputs": [
    {
     "data": {
      "text/plain": [
       "array([0, 1, 1])"
      ]
     },
     "execution_count": 43,
     "metadata": {},
     "output_type": "execute_result"
    }
   ],
   "source": [
    "np.array(relu_der(np.array([-1,2,3])))"
   ]
  },
  {
   "cell_type": "code",
   "execution_count": 44,
   "metadata": {
    "collapsed": true
   },
   "outputs": [],
   "source": [
    "def backward_L(AL,Y,parameters,prev_res):\n",
    "    grads = {}\n",
    "    L = len(parameters)//2\n",
    "    m = Y.shape[1]\n",
    "    dAL = -(np.divide(Y,AL)-np.divide(1-Y,1-AL))\n",
    "    #Lth layer now\n",
    "    W = parameters[\"W\"+str(L)]\n",
    "    b = parameters[\"b\"+str(L)]\n",
    "    A = prev_res[\"A\"+str(L-1)]\n",
    "    Z = prev_res[\"Z\"+str(L)]\n",
    "    grads[\"dA\"+str(L-1)],grads[\"dW\"+str(L)],grads[\"db\"+str(L)] = linear_act_bkd(dAL,W,b,A,Z,\"sigmoid\")\n",
    "    \n",
    "    #L-1th to 1st layer\n",
    "    for l in range(L-1,0,-1):\n",
    "        W = parameters[\"W\"+str(l)]\n",
    "        b = parameters[\"b\"+str(l)]\n",
    "        A = prev_res[\"A\"+str(l-1)]\n",
    "        Z = prev_res[\"Z\"+str(l)]\n",
    "        grads[\"dA\"+str(l-1)],grads[\"dW\"+str(l)],grads[\"db\"+str(l)] = linear_act_bkd(grads[\"dA\"+str(l)],W,b,A,Z,\"relu\")\n",
    "        \n",
    "    return grads"
   ]
  },
  {
   "cell_type": "code",
   "execution_count": 49,
   "metadata": {
    "collapsed": true
   },
   "outputs": [],
   "source": [
    "def linear_act_bkd(dA,W,b,A,Z,act):\n",
    "    if act == \"sigmoid\":\n",
    "        dZ = dA*sig_der(Z)\n",
    "    elif act==\"relu\":\n",
    "        dZ = dA*relu_der(Z)\n",
    "        \n",
    "    m = A.shape[1]\n",
    "    dW = (1/m)*np.dot(dZ,A.T)\n",
    "    db = (1/m)*np.sum(dZ,axis = 1,keepdims = True)\n",
    "    dA_prev = np.dot(W.T,dZ)\n",
    "    \n",
    "    return dA_prev,dW,db"
   ]
  },
  {
   "cell_type": "code",
   "execution_count": 46,
   "metadata": {},
   "outputs": [],
   "source": [
    "def update_params(parameters,grads,alpha):\n",
    "    L = len(parameters)//2\n",
    "    for i in range(1,L+1):\n",
    "        parameters[\"W\"+str(i)] = parameters[\"W\"+str(i)] - alpha*grads[\"dW\"+str(i)]\n",
    "        parameters[\"b\"+str(i)] = parameters[\"b\"+str(i)] - alpha*grads[\"db\"+str(i)]        \n",
    "    return parameters"
   ]
  },
  {
   "cell_type": "code",
   "execution_count": 70,
   "metadata": {
    "collapsed": true
   },
   "outputs": [],
   "source": [
    "def NN_model(X,Y,layer_dims,alpha,num_iters):\n",
    "    np.random.seed(2303)\n",
    "    costs = []\n",
    "    parameters = initialize_params(layer_dims)\n",
    "    for i in range(0,num_iters):\n",
    "        AL,prev = forward_L(X,parameters)\n",
    "       # print(parameters)\n",
    "        cost = compute_cost(AL,Y)\n",
    "        grads = backward_L(AL,Y,parameters,prev)\n",
    "       # print(grads[\"dW2\"])\n",
    "        update_params(parameters,grads,alpha)\n",
    "        if i%10==0:\n",
    "            print(\"Cost after iteration %i:%f\"%(i,cost))\n",
    "            costs.append(cost)\n",
    "            \n",
    "    plt.plot(np.squeeze(costs))\n",
    "    plt.ylabel('cost')\n",
    "    plt.xlabel('iterations (per tens)')\n",
    "    plt.title(\"Learning rate =\" + str(alpha))\n",
    "    plt.show()\n",
    "    \n",
    "    return parameters"
   ]
  },
  {
   "cell_type": "code",
   "execution_count": 71,
   "metadata": {},
   "outputs": [
    {
     "name": "stdout",
     "output_type": "stream",
     "text": [
      "Cost after iteration 0:6.931926\n",
      "Cost after iteration 10:5.289330\n",
      "Cost after iteration 20:3.371071\n",
      "Cost after iteration 30:3.359108\n",
      "Cost after iteration 40:3.351341\n",
      "Cost after iteration 50:3.343026\n",
      "Cost after iteration 60:3.333081\n",
      "Cost after iteration 70:3.320102\n",
      "Cost after iteration 80:3.302241\n",
      "Cost after iteration 90:3.276853\n",
      "Cost after iteration 100:3.240430\n",
      "Cost after iteration 110:3.189026\n",
      "Cost after iteration 120:3.119971\n",
      "Cost after iteration 130:3.033523\n",
      "Cost after iteration 140:2.932564\n",
      "Cost after iteration 150:2.820571\n",
      "Cost after iteration 160:2.700069\n",
      "Cost after iteration 170:2.573966\n",
      "Cost after iteration 180:2.446747\n",
      "Cost after iteration 190:2.324026\n",
      "Cost after iteration 200:2.210650\n",
      "Cost after iteration 210:2.109089\n",
      "Cost after iteration 220:2.019385\n",
      "Cost after iteration 230:1.940073\n",
      "Cost after iteration 240:1.869227\n",
      "Cost after iteration 250:1.805098\n",
      "Cost after iteration 260:1.746318\n",
      "Cost after iteration 270:1.691917\n",
      "Cost after iteration 280:1.641269\n",
      "Cost after iteration 290:1.593934\n",
      "Cost after iteration 300:1.549629\n",
      "Cost after iteration 310:1.508124\n",
      "Cost after iteration 320:1.469218\n",
      "Cost after iteration 330:1.432753\n",
      "Cost after iteration 340:1.398584\n",
      "Cost after iteration 350:1.366570\n",
      "Cost after iteration 360:1.336582\n",
      "Cost after iteration 370:1.308495\n",
      "Cost after iteration 380:1.282183\n",
      "Cost after iteration 390:1.257519\n",
      "Cost after iteration 400:1.234374\n",
      "Cost after iteration 410:1.212622\n",
      "Cost after iteration 420:1.192129\n",
      "Cost after iteration 430:1.172770\n",
      "Cost after iteration 440:1.154445\n",
      "Cost after iteration 450:1.137052\n",
      "Cost after iteration 460:1.120516\n",
      "Cost after iteration 470:1.104758\n",
      "Cost after iteration 480:1.089715\n",
      "Cost after iteration 490:1.075339\n"
     ]
    },
    {
     "data": {
      "image/png": "[encoded data removed]",
      "text/plain": [
       "<matplotlib.figure.Figure at 0x7f163e382b38>"
      ]
     },
     "metadata": {},
     "output_type": "display_data"
    }
   ],
   "source": [
    "parameters = NN_model(X_train, Y_train, [28*28, 20, 10],0.05, 500)"
   ]
  },
  {
   "cell_type": "code",
   "execution_count": 76,
   "metadata": {
    "collapsed": true
   },
   "outputs": [],
   "source": [
    "def predict(X,Y,parameters):\n",
    "    AL,prev = forward_L(X,parameters)\n",
    "    AL = (AL == AL.max(axis=0))*1\n",
    "    ac = np.sum(np.logical_and(AL,Y))\n",
    "    m = Y.shape[1]\n",
    "    print(100*(ac/m))"
   ]
  },
  {
   "cell_type": "code",
   "execution_count": 80,
   "metadata": {},
   "outputs": [
    {
     "name": "stdout",
     "output_type": "stream",
     "text": [
      "87.24\n"
     ]
    }
   ],
   "source": [
    "predict(X_test,Y_test,parameters)"
   ]
  },
  {
   "cell_type": "code",
   "execution_count": null,
   "metadata": {
    "collapsed": true
   },
   "outputs": [],
   "source": []
  }
 ],
 "metadata": {
  "kernelspec": {
   "display_name": "Python 3",
   "language": "python",
   "name": "python3"
  },
  "language_info": {
   "codemirror_mode": {
    "name": "ipython",
    "version": 3
   },
   "file_extension": ".py",
   "mimetype": "text/x-python",
   "name": "python",
   "nbconvert_exporter": "python",
   "pygments_lexer": "ipython3",
   "version": "3.5.2"
  }
 },
 "nbformat": 4,
 "nbformat_minor": 2
}
